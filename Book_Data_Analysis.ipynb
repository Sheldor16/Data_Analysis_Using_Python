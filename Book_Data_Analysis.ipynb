{
 "cells": [
  {
   "cell_type": "code",
   "execution_count": 2,
   "id": "dab091d1",
   "metadata": {},
   "outputs": [
    {
     "name": "stderr",
     "output_type": "stream",
     "text": [
      "C:\\Users\\vaibh\\AppData\\Local\\Temp\\ipykernel_9184\\1633109979.py:6: DtypeWarning: Columns (6) have mixed types. Specify dtype option on import or set low_memory=False.\n",
      "  df = pd.read_csv('C:/Users/vaibh/Downloads/books/books.csv')\n"
     ]
    },
    {
     "data": {
      "text/html": [
       "<div>\n",
       "<style scoped>\n",
       "    .dataframe tbody tr th:only-of-type {\n",
       "        vertical-align: middle;\n",
       "    }\n",
       "\n",
       "    .dataframe tbody tr th {\n",
       "        vertical-align: top;\n",
       "    }\n",
       "\n",
       "    .dataframe thead th {\n",
       "        text-align: right;\n",
       "    }\n",
       "</style>\n",
       "<table border=\"1\" class=\"dataframe\">\n",
       "  <thead>\n",
       "    <tr style=\"text-align: right;\">\n",
       "      <th></th>\n",
       "      <th>title</th>\n",
       "      <th>author</th>\n",
       "      <th>publisher</th>\n",
       "      <th>page</th>\n",
       "      <th>language</th>\n",
       "      <th>discount_rate</th>\n",
       "      <th>discounted_price</th>\n",
       "      <th>price</th>\n",
       "      <th>rating</th>\n",
       "      <th>reviews</th>\n",
       "      <th>cover</th>\n",
       "      <th>paper</th>\n",
       "      <th>isbn</th>\n",
       "      <th>date</th>\n",
       "      <th>link</th>\n",
       "      <th>image</th>\n",
       "    </tr>\n",
       "  </thead>\n",
       "  <tbody>\n",
       "    <tr>\n",
       "      <th>0</th>\n",
       "      <td>Var Mısın? &amp; Güçlü Bir Yaşam İçin Öneriler</td>\n",
       "      <td>Doğan Cüceloğlu</td>\n",
       "      <td>KRONİK KİTAP</td>\n",
       "      <td>320</td>\n",
       "      <td>TÜRKÇE</td>\n",
       "      <td>% 37</td>\n",
       "      <td>31.63</td>\n",
       "      <td>50.00</td>\n",
       "      <td>5</td>\n",
       "      <td>1316</td>\n",
       "      <td>Karton Kapak</td>\n",
       "      <td>2. Hm. Kağıt</td>\n",
       "      <td>9786057635839</td>\n",
       "      <td>2021-01-11</td>\n",
       "      <td>https://www.kitapyurdu.com/kitap/var-misin-amp...</td>\n",
       "      <td>https://img.kitapyurdu.com/v1/getImage/fn:1134...</td>\n",
       "    </tr>\n",
       "    <tr>\n",
       "      <th>1</th>\n",
       "      <td>Kayıp Tanrılar Ülkesi</td>\n",
       "      <td>Ahmet Ümit</td>\n",
       "      <td>YAPI KREDİ YAYINLARI</td>\n",
       "      <td>504</td>\n",
       "      <td>TÜRKÇE</td>\n",
       "      <td>% 40</td>\n",
       "      <td>25.14</td>\n",
       "      <td>42.00</td>\n",
       "      <td>5</td>\n",
       "      <td>667</td>\n",
       "      <td>Karton Kapak</td>\n",
       "      <td>Kitap Kağıdı</td>\n",
       "      <td>9789750850417</td>\n",
       "      <td>2021-06-14</td>\n",
       "      <td>https://www.kitapyurdu.com/kitap/kayip-tanrila...</td>\n",
       "      <td>https://img.kitapyurdu.com/v1/getImage/fn:1142...</td>\n",
       "    </tr>\n",
       "    <tr>\n",
       "      <th>2</th>\n",
       "      <td>Fareler ve İnsanlar</td>\n",
       "      <td>John Steinbeck</td>\n",
       "      <td>SEL YAYINCILIK</td>\n",
       "      <td>111</td>\n",
       "      <td>TÜRKÇE</td>\n",
       "      <td>% 38</td>\n",
       "      <td>17.46</td>\n",
       "      <td>28.00</td>\n",
       "      <td>5</td>\n",
       "      <td>9380</td>\n",
       "      <td>Karton Kapak</td>\n",
       "      <td>Kitap Kağıdı</td>\n",
       "      <td>9789755705859</td>\n",
       "      <td>2020-05-21</td>\n",
       "      <td>https://www.kitapyurdu.com/kitap/fareler-ve-in...</td>\n",
       "      <td>https://img.kitapyurdu.com/v1/getImage/fn:1122...</td>\n",
       "    </tr>\n",
       "    <tr>\n",
       "      <th>3</th>\n",
       "      <td>Simyacı (Ciltsiz)</td>\n",
       "      <td>Paulo Coelho</td>\n",
       "      <td>CAN YAYINLARI</td>\n",
       "      <td>184</td>\n",
       "      <td>TÜRKÇE</td>\n",
       "      <td>% 57</td>\n",
       "      <td>19.39</td>\n",
       "      <td>45.00</td>\n",
       "      <td>5</td>\n",
       "      <td>15667</td>\n",
       "      <td>Karton Kapak</td>\n",
       "      <td>Kitap Kağıdı</td>\n",
       "      <td>9789750726439</td>\n",
       "      <td>2021-09-28</td>\n",
       "      <td>https://www.kitapyurdu.com/kitap/simyaci-cilts...</td>\n",
       "      <td>https://img.kitapyurdu.com/v1/getImage/fn:1148...</td>\n",
       "    </tr>\n",
       "    <tr>\n",
       "      <th>4</th>\n",
       "      <td>Cesur Yeni Dünya</td>\n",
       "      <td>Aldous Huxley</td>\n",
       "      <td>İTHAKİ YAYINLARI</td>\n",
       "      <td>272</td>\n",
       "      <td>TÜRKÇE</td>\n",
       "      <td>% 65</td>\n",
       "      <td>16.57</td>\n",
       "      <td>48.00</td>\n",
       "      <td>5</td>\n",
       "      <td>6559</td>\n",
       "      <td>Karton Kapak</td>\n",
       "      <td>Kitap Kağıdı</td>\n",
       "      <td>9789756902165</td>\n",
       "      <td>2021-08-20</td>\n",
       "      <td>https://www.kitapyurdu.com/kitap/cesur-yeni-du...</td>\n",
       "      <td>https://img.kitapyurdu.com/v1/getImage/fn:1144...</td>\n",
       "    </tr>\n",
       "  </tbody>\n",
       "</table>\n",
       "</div>"
      ],
      "text/plain": [
       "                                        title           author  \\\n",
       "0  Var Mısın? & Güçlü Bir Yaşam İçin Öneriler  Doğan Cüceloğlu   \n",
       "1                       Kayıp Tanrılar Ülkesi       Ahmet Ümit   \n",
       "2                         Fareler ve İnsanlar   John Steinbeck   \n",
       "3                           Simyacı (Ciltsiz)     Paulo Coelho   \n",
       "4                            Cesur Yeni Dünya    Aldous Huxley   \n",
       "\n",
       "              publisher  page language discount_rate discounted_price  price  \\\n",
       "0          KRONİK KİTAP   320   TÜRKÇE          % 37            31.63  50.00   \n",
       "1  YAPI KREDİ YAYINLARI   504   TÜRKÇE          % 40            25.14  42.00   \n",
       "2        SEL YAYINCILIK   111   TÜRKÇE          % 38            17.46  28.00   \n",
       "3         CAN YAYINLARI   184   TÜRKÇE          % 57            19.39  45.00   \n",
       "4      İTHAKİ YAYINLARI   272   TÜRKÇE          % 65            16.57  48.00   \n",
       "\n",
       "   rating  reviews         cover         paper           isbn        date  \\\n",
       "0       5     1316  Karton Kapak  2. Hm. Kağıt  9786057635839  2021-01-11   \n",
       "1       5      667  Karton Kapak  Kitap Kağıdı  9789750850417  2021-06-14   \n",
       "2       5     9380  Karton Kapak  Kitap Kağıdı  9789755705859  2020-05-21   \n",
       "3       5    15667  Karton Kapak  Kitap Kağıdı  9789750726439  2021-09-28   \n",
       "4       5     6559  Karton Kapak  Kitap Kağıdı  9789756902165  2021-08-20   \n",
       "\n",
       "                                                link  \\\n",
       "0  https://www.kitapyurdu.com/kitap/var-misin-amp...   \n",
       "1  https://www.kitapyurdu.com/kitap/kayip-tanrila...   \n",
       "2  https://www.kitapyurdu.com/kitap/fareler-ve-in...   \n",
       "3  https://www.kitapyurdu.com/kitap/simyaci-cilts...   \n",
       "4  https://www.kitapyurdu.com/kitap/cesur-yeni-du...   \n",
       "\n",
       "                                               image  \n",
       "0  https://img.kitapyurdu.com/v1/getImage/fn:1134...  \n",
       "1  https://img.kitapyurdu.com/v1/getImage/fn:1142...  \n",
       "2  https://img.kitapyurdu.com/v1/getImage/fn:1122...  \n",
       "3  https://img.kitapyurdu.com/v1/getImage/fn:1148...  \n",
       "4  https://img.kitapyurdu.com/v1/getImage/fn:1144...  "
      ]
     },
     "execution_count": 2,
     "metadata": {},
     "output_type": "execute_result"
    }
   ],
   "source": [
    "import pandas as pd\n",
    "import numpy as np\n",
    "import seaborn as sns\n",
    "import matplotlib.pyplot as plt\n",
    "\n",
    "df = pd.read_csv('C:/Users/vaibh/Downloads/books/books.csv')\n",
    "df.head(5)\n"
   ]
  },
  {
   "cell_type": "code",
   "execution_count": 3,
   "id": "34a258c7",
   "metadata": {},
   "outputs": [
    {
     "data": {
      "text/html": [
       "<div>\n",
       "<style scoped>\n",
       "    .dataframe tbody tr th:only-of-type {\n",
       "        vertical-align: middle;\n",
       "    }\n",
       "\n",
       "    .dataframe tbody tr th {\n",
       "        vertical-align: top;\n",
       "    }\n",
       "\n",
       "    .dataframe thead th {\n",
       "        text-align: right;\n",
       "    }\n",
       "</style>\n",
       "<table border=\"1\" class=\"dataframe\">\n",
       "  <thead>\n",
       "    <tr style=\"text-align: right;\">\n",
       "      <th></th>\n",
       "      <th>page</th>\n",
       "      <th>rating</th>\n",
       "      <th>reviews</th>\n",
       "      <th>isbn</th>\n",
       "    </tr>\n",
       "  </thead>\n",
       "  <tbody>\n",
       "    <tr>\n",
       "      <th>count</th>\n",
       "      <td>101415.000000</td>\n",
       "      <td>101415.000000</td>\n",
       "      <td>101415.000000</td>\n",
       "      <td>1.014150e+05</td>\n",
       "    </tr>\n",
       "    <tr>\n",
       "      <th>mean</th>\n",
       "      <td>253.793354</td>\n",
       "      <td>2.057260</td>\n",
       "      <td>24.453740</td>\n",
       "      <td>9.753587e+12</td>\n",
       "    </tr>\n",
       "    <tr>\n",
       "      <th>std</th>\n",
       "      <td>269.455746</td>\n",
       "      <td>2.328823</td>\n",
       "      <td>177.455117</td>\n",
       "      <td>5.389133e+11</td>\n",
       "    </tr>\n",
       "    <tr>\n",
       "      <th>min</th>\n",
       "      <td>1.000000</td>\n",
       "      <td>0.000000</td>\n",
       "      <td>0.000000</td>\n",
       "      <td>0.000000e+00</td>\n",
       "    </tr>\n",
       "    <tr>\n",
       "      <th>25%</th>\n",
       "      <td>120.000000</td>\n",
       "      <td>0.000000</td>\n",
       "      <td>0.000000</td>\n",
       "      <td>9.786054e+12</td>\n",
       "    </tr>\n",
       "    <tr>\n",
       "      <th>50%</th>\n",
       "      <td>208.000000</td>\n",
       "      <td>0.000000</td>\n",
       "      <td>0.000000</td>\n",
       "      <td>9.786059e+12</td>\n",
       "    </tr>\n",
       "    <tr>\n",
       "      <th>75%</th>\n",
       "      <td>324.000000</td>\n",
       "      <td>5.000000</td>\n",
       "      <td>13.000000</td>\n",
       "      <td>9.786548e+12</td>\n",
       "    </tr>\n",
       "    <tr>\n",
       "      <th>max</th>\n",
       "      <td>20864.000000</td>\n",
       "      <td>5.000000</td>\n",
       "      <td>23535.000000</td>\n",
       "      <td>9.799944e+12</td>\n",
       "    </tr>\n",
       "  </tbody>\n",
       "</table>\n",
       "</div>"
      ],
      "text/plain": [
       "                page         rating        reviews          isbn\n",
       "count  101415.000000  101415.000000  101415.000000  1.014150e+05\n",
       "mean      253.793354       2.057260      24.453740  9.753587e+12\n",
       "std       269.455746       2.328823     177.455117  5.389133e+11\n",
       "min         1.000000       0.000000       0.000000  0.000000e+00\n",
       "25%       120.000000       0.000000       0.000000  9.786054e+12\n",
       "50%       208.000000       0.000000       0.000000  9.786059e+12\n",
       "75%       324.000000       5.000000      13.000000  9.786548e+12\n",
       "max     20864.000000       5.000000   23535.000000  9.799944e+12"
      ]
     },
     "execution_count": 3,
     "metadata": {},
     "output_type": "execute_result"
    }
   ],
   "source": [
    "df.describe()\n"
   ]
  },
  {
   "cell_type": "code",
   "execution_count": 4,
   "id": "a5f63561",
   "metadata": {},
   "outputs": [
    {
     "name": "stdout",
     "output_type": "stream",
     "text": [
      "<class 'pandas.core.frame.DataFrame'>\n",
      "RangeIndex: 101415 entries, 0 to 101414\n",
      "Data columns (total 16 columns):\n",
      " #   Column            Non-Null Count   Dtype \n",
      "---  ------            --------------   ----- \n",
      " 0   title             101415 non-null  object\n",
      " 1   author            101415 non-null  object\n",
      " 2   publisher         101415 non-null  object\n",
      " 3   page              101415 non-null  int64 \n",
      " 4   language          101415 non-null  object\n",
      " 5   discount_rate     101415 non-null  object\n",
      " 6   discounted_price  101414 non-null  object\n",
      " 7   price             101414 non-null  object\n",
      " 8   rating            101415 non-null  int64 \n",
      " 9   reviews           101415 non-null  int64 \n",
      " 10  cover             101415 non-null  object\n",
      " 11  paper             101415 non-null  object\n",
      " 12  isbn              101415 non-null  int64 \n",
      " 13  date              101415 non-null  object\n",
      " 14  link              101415 non-null  object\n",
      " 15  image             101415 non-null  object\n",
      "dtypes: int64(4), object(12)\n",
      "memory usage: 12.4+ MB\n"
     ]
    }
   ],
   "source": [
    "df.info()"
   ]
  },
  {
   "cell_type": "markdown",
   "id": "0fad813d",
   "metadata": {},
   "source": [
    "# CLEANING THE DATASETS\n",
    "\n",
    "# Dropping the null values\n",
    "\n",
    "df.dropna(inplace=True)\n",
    "df.isnull().sum()"
   ]
  },
  {
   "cell_type": "markdown",
   "id": "e9999aa4",
   "metadata": {},
   "source": [
    "# Dropping the unncessary variables\n",
    "\n",
    "df.drop(columns=['cover','isbn','link','image','paper'],\n",
    "       inplace = True)\n",
    "df.columns"
   ]
  },
  {
   "cell_type": "code",
   "execution_count": 7,
   "id": "40aee5a2",
   "metadata": {},
   "outputs": [
    {
     "data": {
      "text/html": [
       "<div>\n",
       "<style scoped>\n",
       "    .dataframe tbody tr th:only-of-type {\n",
       "        vertical-align: middle;\n",
       "    }\n",
       "\n",
       "    .dataframe tbody tr th {\n",
       "        vertical-align: top;\n",
       "    }\n",
       "\n",
       "    .dataframe thead th {\n",
       "        text-align: right;\n",
       "    }\n",
       "</style>\n",
       "<table border=\"1\" class=\"dataframe\">\n",
       "  <thead>\n",
       "    <tr style=\"text-align: right;\">\n",
       "      <th></th>\n",
       "      <th>title</th>\n",
       "      <th>author</th>\n",
       "      <th>publisher</th>\n",
       "      <th>page</th>\n",
       "      <th>language</th>\n",
       "      <th>discount_rate</th>\n",
       "      <th>discounted_price</th>\n",
       "      <th>price</th>\n",
       "      <th>rating</th>\n",
       "      <th>reviews</th>\n",
       "      <th>date</th>\n",
       "    </tr>\n",
       "  </thead>\n",
       "  <tbody>\n",
       "    <tr>\n",
       "      <th>0</th>\n",
       "      <td>Var Mısın? &amp; Güçlü Bir Yaşam İçin Öneriler</td>\n",
       "      <td>Doğan Cüceloğlu</td>\n",
       "      <td>KRONİK KİTAP</td>\n",
       "      <td>320</td>\n",
       "      <td>TÜRKÇE</td>\n",
       "      <td>% 37</td>\n",
       "      <td>31.63</td>\n",
       "      <td>50.00</td>\n",
       "      <td>5</td>\n",
       "      <td>1316</td>\n",
       "      <td>2021-01-11</td>\n",
       "    </tr>\n",
       "    <tr>\n",
       "      <th>1</th>\n",
       "      <td>Kayıp Tanrılar Ülkesi</td>\n",
       "      <td>Ahmet Ümit</td>\n",
       "      <td>YAPI KREDİ YAYINLARI</td>\n",
       "      <td>504</td>\n",
       "      <td>TÜRKÇE</td>\n",
       "      <td>% 40</td>\n",
       "      <td>25.14</td>\n",
       "      <td>42.00</td>\n",
       "      <td>5</td>\n",
       "      <td>667</td>\n",
       "      <td>2021-06-14</td>\n",
       "    </tr>\n",
       "    <tr>\n",
       "      <th>2</th>\n",
       "      <td>Fareler ve İnsanlar</td>\n",
       "      <td>John Steinbeck</td>\n",
       "      <td>SEL YAYINCILIK</td>\n",
       "      <td>111</td>\n",
       "      <td>TÜRKÇE</td>\n",
       "      <td>% 38</td>\n",
       "      <td>17.46</td>\n",
       "      <td>28.00</td>\n",
       "      <td>5</td>\n",
       "      <td>9380</td>\n",
       "      <td>2020-05-21</td>\n",
       "    </tr>\n",
       "    <tr>\n",
       "      <th>3</th>\n",
       "      <td>Simyacı (Ciltsiz)</td>\n",
       "      <td>Paulo Coelho</td>\n",
       "      <td>CAN YAYINLARI</td>\n",
       "      <td>184</td>\n",
       "      <td>TÜRKÇE</td>\n",
       "      <td>% 57</td>\n",
       "      <td>19.39</td>\n",
       "      <td>45.00</td>\n",
       "      <td>5</td>\n",
       "      <td>15667</td>\n",
       "      <td>2021-09-28</td>\n",
       "    </tr>\n",
       "    <tr>\n",
       "      <th>4</th>\n",
       "      <td>Cesur Yeni Dünya</td>\n",
       "      <td>Aldous Huxley</td>\n",
       "      <td>İTHAKİ YAYINLARI</td>\n",
       "      <td>272</td>\n",
       "      <td>TÜRKÇE</td>\n",
       "      <td>% 65</td>\n",
       "      <td>16.57</td>\n",
       "      <td>48.00</td>\n",
       "      <td>5</td>\n",
       "      <td>6559</td>\n",
       "      <td>2021-08-20</td>\n",
       "    </tr>\n",
       "  </tbody>\n",
       "</table>\n",
       "</div>"
      ],
      "text/plain": [
       "                                        title           author  \\\n",
       "0  Var Mısın? & Güçlü Bir Yaşam İçin Öneriler  Doğan Cüceloğlu   \n",
       "1                       Kayıp Tanrılar Ülkesi       Ahmet Ümit   \n",
       "2                         Fareler ve İnsanlar   John Steinbeck   \n",
       "3                           Simyacı (Ciltsiz)     Paulo Coelho   \n",
       "4                            Cesur Yeni Dünya    Aldous Huxley   \n",
       "\n",
       "              publisher  page language discount_rate discounted_price  price  \\\n",
       "0          KRONİK KİTAP   320   TÜRKÇE          % 37            31.63  50.00   \n",
       "1  YAPI KREDİ YAYINLARI   504   TÜRKÇE          % 40            25.14  42.00   \n",
       "2        SEL YAYINCILIK   111   TÜRKÇE          % 38            17.46  28.00   \n",
       "3         CAN YAYINLARI   184   TÜRKÇE          % 57            19.39  45.00   \n",
       "4      İTHAKİ YAYINLARI   272   TÜRKÇE          % 65            16.57  48.00   \n",
       "\n",
       "   rating  reviews        date  \n",
       "0       5     1316  2021-01-11  \n",
       "1       5      667  2021-06-14  \n",
       "2       5     9380  2020-05-21  \n",
       "3       5    15667  2021-09-28  \n",
       "4       5     6559  2021-08-20  "
      ]
     },
     "execution_count": 7,
     "metadata": {},
     "output_type": "execute_result"
    }
   ],
   "source": [
    "df.head(5)"
   ]
  },
  {
   "cell_type": "markdown",
   "id": "3b33d590",
   "metadata": {},
   "source": [
    "# Removing Duplicated Values\n",
    "\n",
    "df = df.drop_duplicates(subset = ['title'])\n",
    "df.drop(df[df['reviews'] == 0].index, inplace = True)\n",
    "df.drop(df[df['rating'] == 0].index, inplace = True)\n",
    "df.head(5)"
   ]
  },
  {
   "cell_type": "code",
   "execution_count": 19,
   "id": "82b431ba",
   "metadata": {},
   "outputs": [
    {
     "name": "stdout",
     "output_type": "stream",
     "text": [
      "<class 'pandas.core.frame.DataFrame'>\n",
      "Int64Index: 42694 entries, 0 to 101325\n",
      "Data columns (total 13 columns):\n",
      " #   Column             Non-Null Count  Dtype  \n",
      "---  ------             --------------  -----  \n",
      " 0   title              42694 non-null  object \n",
      " 1   author             42694 non-null  object \n",
      " 2   publisher          42694 non-null  object \n",
      " 3   page               42694 non-null  int64  \n",
      " 4   language           42694 non-null  object \n",
      " 5   discount_rate      42694 non-null  object \n",
      " 6   discounted_price   42694 non-null  object \n",
      " 7   price              42694 non-null  float64\n",
      " 8   rating             42694 non-null  int64  \n",
      " 9   reviews            42694 non-null  int64  \n",
      " 10  date               42694 non-null  object \n",
      " 11  discount_rate_num  42694 non-null  int32  \n",
      " 12  new_date           42694 non-null  int32  \n",
      "dtypes: float64(1), int32(2), int64(3), object(7)\n",
      "memory usage: 4.2+ MB\n"
     ]
    }
   ],
   "source": [
    "# RESHAPING AND EDA\n",
    "\n",
    "df['discount_rate_num'] = df['discount_rate'].str.slice(1,).astype(int)\n",
    "df['new_date'] = df['date'].str.slice(0,4)\n",
    "df.drop(df[df['new_date']=='unkn'].index, inplace=True)\n",
    "df['new_date'] = df['new_date'].astype(int)\n",
    "\n",
    "# Converting column-price datatype from object to float type\n",
    "\n",
    "df['price'] = df['price'].str.slice(0,3).astype(float)\n",
    "df.info()\n",
    "\n",
    "\n"
   ]
  },
  {
   "cell_type": "markdown",
   "id": "5836222b",
   "metadata": {},
   "source": [
    "# VISUALIZING NUMERICAL VARIABLES\n",
    "\n",
    "df.hist( bins = 10, figsize=(28,20))\n",
    "plt.show()"
   ]
  },
  {
   "cell_type": "code",
   "execution_count": 24,
   "id": "659cae98",
   "metadata": {
    "scrolled": false
   },
   "outputs": [
    {
     "data": {
      "text/plain": [
       "<AxesSubplot:>"
      ]
     },
     "execution_count": 24,
     "metadata": {},
     "output_type": "execute_result"
    },
    {
     "data": {
      "image/png": "[encoded data removed]",
      "text/plain": [
       "<Figure size 720x576 with 2 Axes>"
      ]
     },
     "metadata": {
      "needs_background": "light"
     },
     "output_type": "display_data"
    }
   ],
   "source": [
    "# HEATMAP\n",
    "\n",
    "plt.figure(figsize=(10,8))\n",
    "sns.set_context('paper', font_scale=1.4)\n",
    "\n",
    "df_corr = df.corr()\n",
    "sns.heatmap(df_corr, annot = True, cmap = 'Oranges')"
   ]
  },
  {
   "cell_type": "code",
   "execution_count": 27,
   "id": "a0910d0e",
   "metadata": {},
   "outputs": [
    {
     "data": {
      "image/png": "[encoded data removed]",
      "text/plain": [
       "<Figure size 360x360 with 1 Axes>"
      ]
     },
     "metadata": {
      "needs_background": "light"
     },
     "output_type": "display_data"
    }
   ],
   "source": [
    "sns.displot(df, x='new_date', y = 'price', bins = 20)\n",
    "plt.xlabel('YEARS')\n",
    "plt.ylabel('PRICES')\n",
    "plt.title('BOOK PRICES VS YEARS')\n",
    "plt.show()"
   ]
  },
  {
   "cell_type": "code",
   "execution_count": 30,
   "id": "0cf395eb",
   "metadata": {},
   "outputs": [
    {
     "data": {
      "text/plain": [
       "unknown             894\n",
       "Kolektif            876\n",
       "Mustafa Orakçı      103\n",
       "Birsen Ekim Özen     88\n",
       "Stefan Zweig         82\n",
       "Name: author, dtype: int64"
      ]
     },
     "execution_count": 30,
     "metadata": {},
     "output_type": "execute_result"
    }
   ],
   "source": [
    "# BEST 5 AUTORS ( ACCORDING TO BEST RATINGS )\n",
    "\n",
    "df[df['rating'] == 5]['author'].value_counts().head(5)\n"
   ]
  },
  {
   "cell_type": "code",
   "execution_count": 32,
   "id": "ae0ee442",
   "metadata": {},
   "outputs": [
    {
     "data": {
      "image/png": "[encoded data removed]",
      "text/plain": [
       "<Figure size 720x1080 with 1 Axes>"
      ]
     },
     "metadata": {},
     "output_type": "display_data"
    }
   ],
   "source": [
    "plt.figure(figsize=(10,15))\n",
    "values = [894,876,103,88,82]\n",
    "labels = ['unknown','Kolektif','Mustafa Orakçı','Birsen Ekim Özen',\n",
    "         'Stefan Zweig']\n",
    "plt.title(' BEST FIVE AUTHORS - ACCORDING TO RATINGS', fontsize = 30)\n",
    "colors = sns.color_palette('pastel')\n",
    "plt.pie(values, labels = labels, colors = colors, autopct = '%0.0f%%')\n",
    "plt.show()"
   ]
  },
  {
   "cell_type": "code",
   "execution_count": 37,
   "id": "c94cd1fa",
   "metadata": {},
   "outputs": [
    {
     "data": {
      "image/png": "[encoded data removed]",
      "text/plain": [
       "<Figure size 1080x504 with 1 Axes>"
      ]
     },
     "metadata": {
      "needs_background": "light"
     },
     "output_type": "display_data"
    }
   ],
   "source": [
    "top_five_reviews = df.sort_values(\n",
    "    by =['reviews'], ascending = False)['reviews'].head(5)\n",
    "\n",
    "top_five_title = df.sort_values(\n",
    "    by =['reviews'], ascending = False)['title'].head(5)\n",
    "\n",
    "top_five_authors = df.sort_values(\n",
    "    by =['reviews'], ascending = False)['author'].head(5)\n",
    "\n",
    "y = []\n",
    "m = []\n",
    "\n",
    "for j in top_five_reviews:\n",
    "    y.append(j)\n",
    "    \n",
    "for k in top_five_title:\n",
    "    m.append(k)\n",
    "    \n",
    "    \n",
    "plt.figure(figsize = (15,7))\n",
    "sns.barplot(x=m, y=y, data=df, palette = 'Blues_d')\n",
    "plt.xlabel(' TITLES OF THE BOOKS')\n",
    "plt.ylabel('NUMBER OF REVIEWS')\n",
    "plt.title('TOP 5 BOOKS WITH THE HIGHEST REVIEWS', fontsize = 15)\n",
    "plt.show()"
   ]
  },
  {
   "cell_type": "code",
   "execution_count": null,
   "id": "3632e07b",
   "metadata": {},
   "outputs": [],
   "source": []
  }
 ],
 "metadata": {
  "kernelspec": {
   "display_name": "Python 3 (ipykernel)",
   "language": "python",
   "name": "python3"
  },
  "language_info": {
   "codemirror_mode": {
    "name": "ipython",
    "version": 3
   },
   "file_extension": ".py",
   "mimetype": "text/x-python",
   "name": "python",
   "nbconvert_exporter": "python",
   "pygments_lexer": "ipython3",
   "version": "3.10.2"
  }
 },
 "nbformat": 4,
 "nbformat_minor": 5
}
